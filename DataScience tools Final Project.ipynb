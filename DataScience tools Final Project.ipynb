{
 "cells": [
  {
   "cell_type": "markdown",
   "id": "6f6f331b-0b63-47a0-84b2-4f1b7eb7216e",
   "metadata": {},
   "source": [
    "\n",
    "<h1>Data Science Tools and Ecosystem</h1>\n"
   ]
  },
  {
   "cell_type": "markdown",
   "id": "05962b5b-5335-4a57-8e7f-ee8e9e1ebe5d",
   "metadata": {},
   "source": [
    "<h2>Introduction</h2>\n",
    "<h4>In this notebook, Data Science Tools and Ecosystem are summarized.\r\n",
    "</h4>"
   ]
  },
  {
   "cell_type": "markdown",
   "id": "1b9ba903-a35b-4b08-b648-9e2fffbc4ced",
   "metadata": {},
   "source": [
    "<h2>Objectives:</h2>\n",
    "<ul>\n",
    "    <li>List popular languages for Data Science</li>\n",
    "    <li>List popular libraries for Data Science</li>\n",
    "    <li>List popular tools for Data Science</li>\n",
    "</ul>"
   ]
  },
  {
   "cell_type": "markdown",
   "id": "8113fe8b-2cc4-44a1-b462-8ad55875437a",
   "metadata": {},
   "source": [
    "<h2>Some of the popular languages that Data Scientists use are:</h2>\n",
    " <ol>\n",
    "    <li>Python</li>\n",
    "    <li>R</li>\n",
    "    <li>Scala</li>\n",
    "    <li>Java</li>\n",
    " </ol>\n"
   ]
  },
  {
   "cell_type": "markdown",
   "id": "e7bde927-2133-4886-86be-139b68ac9d17",
   "metadata": {},
   "source": [
    "<H2>Some of the commonly used libraries used by Data Scientists include:</H2>\n",
    "<ol>\n",
    "    <li>Matplotlib</li>\n",
    "    <li>Tensorflow</li>\n",
    "    <li>Numpy</li>\n",
    "    <li>Pandas</li>\n",
    "    <li>Seaborn</li>\n",
    "</ol>"
   ]
  },
  {
   "cell_type": "markdown",
   "id": "37775efc-6bff-4f0a-9977-2fb85f0f8a43",
   "metadata": {},
   "source": [
    "<table border=\"1\">\n",
    "  <tr>\n",
    "    <th>Data Science Tools</th>\n",
    "  </tr>\n",
    "  <tr>\n",
    "    <td>Jupyter Notebook</td>\n",
    "  </tr>\n",
    "  <tr>\n",
    "    <td>RStudio</td>\n",
    "  </tr>\n",
    "  <tr>\n",
    "    <td>Apache Spark</td>\n",
    "  </tr>\n",
    "  <tr>\n",
    "      <td>Rapid Miner</td>\n",
    "  </tr>\n",
    "   <tr>\n",
    "      <td>Big ML</td>\n",
    "  </tr>\n",
    "   <tr>\n",
    "      <td>Scikit-Learn</td>\n",
    "  </tr>\n",
    "  "
   ]
  },
  {
   "cell_type": "markdown",
   "id": "4c5f1e47-30e3-46e5-b262-a8e2782de3f0",
   "metadata": {},
   "source": [
    "<h3>Below are a few examples of evaluating arithmetic expressions in Python</h3>"
   ]
  },
  {
   "cell_type": "code",
   "execution_count": 21,
   "id": "f1f8dc3b-2dd2-4d57-9a99-3e8ba44665f0",
   "metadata": {},
   "outputs": [
    {
     "data": {
      "text/plain": [
       "24"
      ]
     },
     "execution_count": 21,
     "metadata": {},
     "output_type": "execute_result"
    }
   ],
   "source": [
    "3*8"
   ]
  },
  {
   "cell_type": "code",
   "execution_count": 23,
   "id": "0a0ba033-d557-4850-b963-8ccfa3435daa",
   "metadata": {},
   "outputs": [
    {
     "data": {
      "text/plain": [
       "11"
      ]
     },
     "execution_count": 23,
     "metadata": {},
     "output_type": "execute_result"
    }
   ],
   "source": [
    "3+8"
   ]
  },
  {
   "cell_type": "code",
   "execution_count": 27,
   "id": "ae651204-22e5-415f-b340-63b03c59b790",
   "metadata": {},
   "outputs": [
    {
     "data": {
      "text/plain": [
       "17"
      ]
     },
     "execution_count": 27,
     "metadata": {},
     "output_type": "execute_result"
    }
   ],
   "source": [
    "##This a simple arithmetic expression to mutiply then add integers\n",
    "(3*4)+5"
   ]
  },
  {
   "cell_type": "code",
   "execution_count": 29,
   "id": "021b0bb6-5e4c-4e10-92f2-c9ddacd15eae",
   "metadata": {},
   "outputs": [
    {
     "data": {
      "text/plain": [
       "3.3333333333333335"
      ]
     },
     "execution_count": 29,
     "metadata": {},
     "output_type": "execute_result"
    }
   ],
   "source": [
    "# This will convert 200 minutes to hours by diving by 60\n",
    "200/60"
   ]
  },
  {
   "cell_type": "markdown",
   "id": "04d9d26f-567f-4907-a239-b8a0f59f10a5",
   "metadata": {},
   "source": [
    "<h2>Author</h2>\n",
    "Olaleye Ebenezer Adebayo"
   ]
  },
  {
   "cell_type": "code",
   "execution_count": null,
   "id": "d0b02bc0-cba3-40ea-b8ff-a24e6094d35b",
   "metadata": {},
   "outputs": [],
   "source": []
  }
 ],
 "metadata": {
  "kernelspec": {
   "display_name": "Python 3 (ipykernel)",
   "language": "python",
   "name": "python3"
  },
  "language_info": {
   "codemirror_mode": {
    "name": "ipython",
    "version": 3
   },
   "file_extension": ".py",
   "mimetype": "text/x-python",
   "name": "python",
   "nbconvert_exporter": "python",
   "pygments_lexer": "ipython3",
   "version": "3.11.7"
  }
 },
 "nbformat": 4,
 "nbformat_minor": 5
}
